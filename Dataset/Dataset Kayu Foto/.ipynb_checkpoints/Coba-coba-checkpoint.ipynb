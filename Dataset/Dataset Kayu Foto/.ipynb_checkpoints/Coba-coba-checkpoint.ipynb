{
 "cells": [
  {
   "cell_type": "code",
   "execution_count": 1,
   "metadata": {},
   "outputs": [],
   "source": [
    "import os\n",
    "import cv2\n",
    "import numpy as np\n",
    "\n",
    "from sklearn.metrics import accuracy_score\n",
    "from sklearn.svm import SVC\n",
    "from skimage.feature import hog\n",
    "from skimage.feature import greycomatrix, greycoprops\n",
    "from sklearn.neural_network import MLPClassifier\n",
    "from tqdm import tqdm_notebook"
   ]
  },
  {
   "cell_type": "code",
   "execution_count": 2,
   "metadata": {},
   "outputs": [],
   "source": [
    "path_data_latih = \"dataset/train/\""
   ]
  },
  {
   "cell_type": "code",
   "execution_count": 3,
   "metadata": {},
   "outputs": [],
   "source": [
    "def eks_hog(gambar):\n",
    "    \n",
    "    eks_ciri = hog(gambar, orientations=9, pixels_per_cell=(16, 16), cells_per_block=(2, 2), visualize=False, multichannel=True)\n",
    "    \n",
    "    eks_ciri = np.array(eks_ciri).astype('float')\n",
    "\n",
    "    return eks_ciri"
   ]
  },
  {
   "cell_type": "code",
   "execution_count": 4,
   "metadata": {},
   "outputs": [],
   "source": [
    "def eks_glcm(gambar):\n",
    "    \n",
    "    #gambar = cv2.resize(gambar, (100,100))\n",
    "    gambar_grayscale = cv2.cvtColor(gambar, cv2.COLOR_BGR2GRAY)\n",
    "    \n",
    "    nilai_matriks = greycomatrix(gambar_grayscale, [1], [0,45,90,135], 256)\n",
    "    \n",
    "    kontras = np.array(greycoprops(nilai_matriks, 'contrast')).reshape(-1,)\n",
    "    asm = np.array(greycoprops(nilai_matriks, 'ASM')).reshape(-1,)\n",
    "    homogeneity = np.array(greycoprops(nilai_matriks, 'homogeneity')).reshape(-1,)\n",
    "    korelasi = np.array(greycoprops(nilai_matriks, 'correlation')).reshape(-1,)\n",
    "    \n",
    "    ciri_hog = np.array(hog(gambar, orientations=9, pixels_per_cell=(4, 4), cells_per_block=(2,2), visualize=False, multichannel=True)).reshape(-1,)\n",
    "    \n",
    "    eks_ciri = np.array([kontras, asm, homogeneity, korelasi]).reshape(-1,)\n",
    "    \n",
    "    eks_ciri = np.append(eks_ciri, ciri_hog)\n",
    "    \n",
    "    return eks_ciri"
   ]
  },
  {
   "cell_type": "code",
   "execution_count": 5,
   "metadata": {},
   "outputs": [],
   "source": [
    "def labelling(nama_file):\n",
    "    \n",
    "    if \"A-\" in nama_file:\n",
    "        label = 0\n",
    "    elif \"B-\" in nama_file:\n",
    "        label = 1\n",
    "    elif \"C-\" in nama_file:\n",
    "        label = 2\n",
    "    elif \"D-\" in nama_file:\n",
    "        label = 3\n",
    "    elif \"E-\" in nama_file:\n",
    "        label = 4\n",
    "\n",
    "    return label"
   ]
  },
  {
   "cell_type": "code",
   "execution_count": 6,
   "metadata": {},
   "outputs": [],
   "source": [
    "def pre_processing_gambar(path):\n",
    "    \n",
    "    data_label = []\n",
    "    \n",
    "    data_ekstraksi_ciri = []\n",
    "    \n",
    "    daftar_file = os.listdir(path)\n",
    "    \n",
    "    for nama_file in tqdm_notebook(daftar_file, desc=\"Proses\"):\n",
    "        \n",
    "        label = labelling(nama_file)\n",
    "        \n",
    "        gambar = cv2.imread(os.path.join(path,nama_file))\n",
    "        \n",
    "        #ekstraksi_ciri = np.array(eks_hog(gambar)).reshape(-1,)\n",
    "        \n",
    "        ekstraksi_ciri = eks_glcm(gambar)\n",
    "        \n",
    "        data_ekstraksi_ciri.append(ekstraksi_ciri)\n",
    "        \n",
    "        data_label.append(label)\n",
    "        \n",
    "    return np.array(data_ekstraksi_ciri), np.array(data_label)"
   ]
  },
  {
   "cell_type": "code",
   "execution_count": 7,
   "metadata": {},
   "outputs": [
    {
     "data": {
      "application/vnd.jupyter.widget-view+json": {
       "model_id": "b09fc3e4987d4eebbde6047f03884995",
       "version_major": 2,
       "version_minor": 0
      },
      "text/plain": [
       "HBox(children=(IntProgress(value=0, description='Proses', max=276, style=ProgressStyle(description_width='init…"
      ]
     },
     "metadata": {},
     "output_type": "display_data"
    },
    {
     "name": "stdout",
     "output_type": "stream",
     "text": [
      "\n"
     ]
    }
   ],
   "source": [
    "ekstraksi_ciri_data_latih, label_data_latih = pre_processing_gambar(path_data_latih)"
   ]
  },
  {
   "cell_type": "code",
   "execution_count": 8,
   "metadata": {},
   "outputs": [
    {
     "name": "stdout",
     "output_type": "stream",
     "text": [
      "(276, 1146832)\n",
      "(276,)\n"
     ]
    }
   ],
   "source": [
    "print(ekstraksi_ciri_data_latih.shape)\n",
    "print(label_data_latih.shape)"
   ]
  },
  {
   "cell_type": "markdown",
   "metadata": {},
   "source": []
  },
  {
   "cell_type": "markdown",
   "metadata": {},
   "source": []
  },
  {
   "cell_type": "code",
   "execution_count": 9,
   "metadata": {},
   "outputs": [],
   "source": [
    "path_data_validasi= \"dataset/validation/\""
   ]
  },
  {
   "cell_type": "code",
   "execution_count": 10,
   "metadata": {},
   "outputs": [
    {
     "data": {
      "application/vnd.jupyter.widget-view+json": {
       "model_id": "b8a5461814e44f3ea89e091702f99411",
       "version_major": 2,
       "version_minor": 0
      },
      "text/plain": [
       "HBox(children=(IntProgress(value=0, description='Proses', max=30, style=ProgressStyle(description_width='initi…"
      ]
     },
     "metadata": {},
     "output_type": "display_data"
    },
    {
     "name": "stdout",
     "output_type": "stream",
     "text": [
      "\n"
     ]
    }
   ],
   "source": [
    "ekstraksi_ciri_data_validasi, label_data_validasi = pre_processing_gambar(path_data_validasi)"
   ]
  },
  {
   "cell_type": "code",
   "execution_count": 11,
   "metadata": {},
   "outputs": [
    {
     "name": "stdout",
     "output_type": "stream",
     "text": [
      "(30, 1146832)\n",
      "(30,)\n"
     ]
    }
   ],
   "source": [
    "print(ekstraksi_ciri_data_validasi.shape)\n",
    "print(label_data_validasi.shape)"
   ]
  },
  {
   "cell_type": "markdown",
   "metadata": {},
   "source": []
  },
  {
   "cell_type": "markdown",
   "metadata": {},
   "source": []
  },
  {
   "cell_type": "code",
   "execution_count": 12,
   "metadata": {},
   "outputs": [],
   "source": [
    "#data_ekstraksi_ciri, data_label = np.vstack((ekstraksi_ciri_data_latih, ekstraksi_ciri_data_validasi)), np.hstack((label_data_latih, label_data_validasi))"
   ]
  },
  {
   "cell_type": "code",
   "execution_count": 13,
   "metadata": {},
   "outputs": [
    {
     "name": "stdout",
     "output_type": "stream",
     "text": [
      "Iteration 1, loss = 6.73301511\n",
      "Iteration 2, loss = 36.73938193\n",
      "Iteration 3, loss = 95.20687748\n",
      "Iteration 4, loss = 190.43028996\n",
      "Iteration 5, loss = 292.32386874\n",
      "Iteration 6, loss = 391.10080830\n",
      "Iteration 7, loss = 481.76554535\n",
      "Iteration 8, loss = 562.19648527\n",
      "Iteration 9, loss = 631.93288184\n",
      "Iteration 10, loss = 691.43033225\n",
      "Iteration 11, loss = 741.59825555\n",
      "Iteration 12, loss = 783.53022981\n",
      "Training loss did not improve more than tol=0.000010 for 10 consecutive epochs. Stopping.\n",
      "0.2\n"
     ]
    }
   ],
   "source": [
    "#clf = MLPClassifier(hidden_layer_sizes=(100,), verbose=True)\n",
    "#clf = SVC(kernel='linear')\n",
    "clf = MLPClassifier(hidden_layer_sizes=(100), max_iter=100, alpha=1e-4,solver='sgd', verbose=10, tol=1e-5, random_state=1,learning_rate_init=.1)\n",
    "\n",
    "clf.fit(ekstraksi_ciri_data_latih, label_data_latih)\n",
    "y_prediksi = clf.predict(ekstraksi_ciri_data_validasi)\n",
    "akurasi = accuracy_score(label_data_validasi, y_prediksi)\n",
    "print(akurasi)"
   ]
  },
  {
   "cell_type": "code",
   "execution_count": 14,
   "metadata": {},
   "outputs": [
    {
     "name": "stdout",
     "output_type": "stream",
     "text": [
      "[0 0 0 0 0 0 0 0 0 0 0 0 0 0 0 0 0 0 0 0 0 0 0 0 0 0 0 0 0 0]\n",
      "[0 0 0 0 0 0 1 1 1 1 1 1 2 2 2 2 2 2 3 3 3 3 3 3 4 4 4 4 4 4]\n"
     ]
    }
   ],
   "source": [
    "print(y_prediksi)\n",
    "print(label_data_validasi)"
   ]
  },
  {
   "cell_type": "code",
   "execution_count": null,
   "metadata": {},
   "outputs": [],
   "source": []
  }
 ],
 "metadata": {
  "kernelspec": {
   "display_name": "Python 3",
   "language": "python",
   "name": "python3"
  },
  "language_info": {
   "codemirror_mode": {
    "name": "ipython",
    "version": 3
   },
   "file_extension": ".py",
   "mimetype": "text/x-python",
   "name": "python",
   "nbconvert_exporter": "python",
   "pygments_lexer": "ipython3",
   "version": "3.6.5"
  }
 },
 "nbformat": 4,
 "nbformat_minor": 2
}
