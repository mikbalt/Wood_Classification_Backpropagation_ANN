{
 "cells": [
  {
   "cell_type": "code",
   "execution_count": null,
   "metadata": {},
   "outputs": [],
   "source": [
    "from sklearn.neural_network import MLPClassifier\n",
    "import os\n",
    "import cv2\n",
    "from skimage.feature import hog\n",
    "import numpy as np\n",
    "from sklearn.model_selection import train_test_split\n",
    "from sklearn.metrics import accuracy_score\n",
    "from sklearn.model_selection import cross_val_score\n",
    "from tqdm import tqdm_notebook\n",
    "from sklearn.externals import joblib"
   ]
  },
  {
   "cell_type": "code",
   "execution_count": null,
   "metadata": {},
   "outputs": [],
   "source": [
    "def eks_hog(gambar):\n",
    "    eks_ciri, hog_image = hog(gambar, block_norm='L2-Hys',orientations=8, cells_per_block=(6, 6), pixels_per_cell=(6,6), visualize=True, multichannel=True)\n",
    "\n",
    "    return eks_ciri"
   ]
  },
  {
   "cell_type": "code",
   "execution_count": null,
   "metadata": {},
   "outputs": [],
   "source": [
    "#direct = 'G:/Program TA/data coba/train'\n",
    "direct = 'G:/Program TA/data scan/train1'\n",
    "melihat_isi_direct = os.listdir(direct)\n",
    "print('Total gambar kayu:',len(melihat_isi_direct))\n",
    "#print('Isi File = ', melihat_isi_direct)"
   ]
  },
  {
   "cell_type": "code",
   "execution_count": null,
   "metadata": {},
   "outputs": [],
   "source": [
    "def labelling(nama):\n",
    "    if 'A' in nama:\n",
    "        label = 0\n",
    "    if 'B' in nama:\n",
    "        label = 1\n",
    "    if 'C' in nama:\n",
    "        label = 2\n",
    "    if 'D' in nama:\n",
    "        label = 3\n",
    "    if 'E' in nama:\n",
    "        label = 4\n",
    "        \n",
    "    return label"
   ]
  },
  {
   "cell_type": "code",
   "execution_count": null,
   "metadata": {},
   "outputs": [],
   "source": [
    "def preprocessing(path):\n",
    "\n",
    "    train_label = []\n",
    "    train_ekstraksi = []\n",
    "    melihat_isi_direct = os.listdir(path)\n",
    "\n",
    "    for gambar in tqdm_notebook(melihat_isi_direct, desc=\"Proses\"):\n",
    "\n",
    "        label = labelling(gambar)\n",
    "        img = cv2.imread(os.path.join(path, gambar))\n",
    "        res = cv2.resize(img, (60, 60))\n",
    "        hasil = eks_hog(res)\n",
    "\n",
    "        train_label.append(label)\n",
    "        train_ekstraksi.append(hasil)\n",
    "        \n",
    "    return  np.array(train_ekstraksi), np.array(train_label)"
   ]
  },
  {
   "cell_type": "code",
   "execution_count": null,
   "metadata": {},
   "outputs": [],
   "source": [
    "ekstraksi_ciri_data_latih, label_data_latih = preprocessing(direct)\n",
    "\n",
    "print('dimensi ekstraksi ciri =', ekstraksi_ciri_data_latih.shape)\n",
    "print('dimensi label = ', label_data_latih.shape)\n",
    "\n",
    "X,y = ekstraksi_ciri_data_latih, label_data_latih"
   ]
  },
  {
   "cell_type": "code",
   "execution_count": null,
   "metadata": {},
   "outputs": [],
   "source": [
    "path_data_validasi= 'G:/Program TA/data scan/validate30%'"
   ]
  },
  {
   "cell_type": "code",
   "execution_count": null,
   "metadata": {},
   "outputs": [],
   "source": [
    "ekstraksi_ciri_data_uji, label_data_uji = preprocessing(path_data_validasi)\n",
    "\n",
    "print('dimensi ekstraksi ciri =', ekstraksi_ciri_data_uji.shape)\n",
    "print('dimensi label = ', label_data_uji.shape)\n",
    "\n",
    "Q,w = ekstraksi_ciri_data_uji, label_data_uji"
   ]
  },
  {
   "cell_type": "code",
   "execution_count": null,
   "metadata": {},
   "outputs": [],
   "source": [
    "mlp = MLPClassifier(hidden_layer_sizes=(100,), max_iter=80, alpha=1e-4,\n",
    "                    solver='sgd', verbose=True, tol=1e-6, random_state=0,\n",
    "                    learning_rate_init=.1)\n",
    "mlp.fit(X, y)\n",
    "print(\"Training set score: %f\" % mlp.score(X, y))\n",
    "#print(\"Test set score: %f\" % mlp.score(Q, w))"
   ]
  },
  {
   "cell_type": "code",
   "execution_count": null,
   "metadata": {},
   "outputs": [],
   "source": [
    "print(\"Test set score: %f\" % mlp.score(Q, w))"
   ]
  },
  {
   "cell_type": "code",
   "execution_count": null,
   "metadata": {},
   "outputs": [],
   "source": [
    "y_prediction = mlp.predict(Q)"
   ]
  },
  {
   "cell_type": "code",
   "execution_count": null,
   "metadata": {},
   "outputs": [],
   "source": [
    "y_true, y_pred = w , mlp.predict(Q)\n",
    "\n",
    "from sklearn.metrics import classification_report,confusion_matrix\n",
    "print()\n",
    "print(confusion_matrix(w,y_pred))\n",
    "print('Results on the test set:')\n",
    "\n",
    "print(classification_report(y_true, y_pred))"
   ]
  },
  {
   "cell_type": "code",
   "execution_count": null,
   "metadata": {},
   "outputs": [],
   "source": [
    "# untuk mengecek apakah tidak overfitting dibandingkan dengan data y_test (data uji label)\n",
    "\n",
    "print(y_prediction)\n",
    "print('\\n')\n",
    "print(w)"
   ]
  },
  {
   "cell_type": "code",
   "execution_count": null,
   "metadata": {},
   "outputs": [],
   "source": [
    "print('akurasi =', accuracy_score(w, y_prediction)*100)"
   ]
  },
  {
   "cell_type": "code",
   "execution_count": null,
   "metadata": {},
   "outputs": [],
   "source": [
    "joblib.dump(mlp, 'model/saved_model.pkl')"
   ]
  },
  {
   "cell_type": "code",
   "execution_count": null,
   "metadata": {},
   "outputs": [],
   "source": [
    "y_prediction = mlp.predict(Q)\n",
    "predict_train = mlp.predict(X)\n",
    "\n",
    "from sklearn.metrics import classification_report,confusion_matrix\n",
    "print(confusion_matrix(y,predict_train))\n",
    "print(classification_report(y,predict_train))\n",
    "\n",
    "print('===========================================================================================')"
   ]
  },
  {
   "cell_type": "code",
   "execution_count": null,
   "metadata": {},
   "outputs": [],
   "source": [
    "#data split\n",
    "\n",
    "X_train, X_test, y_train, y_test = train_test_split(X, y, train_size=0.9, random_state=0)\n",
    "\n",
    "print('dimensi X_train=', X_train.shape)\n",
    "print('dimensi X_test=', X_test.shape)\n",
    "print('dimensi y_train=', y_train.shape)\n",
    "print('dimensi y_test=', y_test.shape)\n",
    "print('\\n')\n",
    "\n",
    "print(y_test)"
   ]
  },
  {
   "cell_type": "code",
   "execution_count": null,
   "metadata": {},
   "outputs": [],
   "source": [
    "mlp = MLPClassifier(hidden_layer_sizes=(100,), max_iter=50, alpha=1e-4,\n",
    "                    solver='sgd', verbose=10, tol=1e-6, random_state=0,\n",
    "                    learning_rate_init=.1)\n",
    "\n",
    "\n",
    "mlp.fit(X_train, y_train)\n",
    "\n",
    "print(\"Training set score: %f\" % mlp.score(X_train, y_train))\n",
    "print(\"Test set score: %f\" % mlp.score(X_test, y_test))\n"
   ]
  },
  {
   "cell_type": "code",
   "execution_count": null,
   "metadata": {},
   "outputs": [],
   "source": [
    "y_prediction = mlp.predict(X_test)\n",
    "predict_train = mlp.predict(X_train)\n",
    "\n",
    "from sklearn.metrics import classification_report,confusion_matrix\n",
    "print(confusion_matrix(y_train,predict_train))\n",
    "print(classification_report(y_train,predict_train))"
   ]
  },
  {
   "cell_type": "code",
   "execution_count": null,
   "metadata": {},
   "outputs": [],
   "source": [
    "y_prediction = mlp.predict(X_test)\n",
    "\n",
    "from sklearn.metrics import classification_report,confusion_matrix\n",
    "print(confusion_matrix(y_test,y_prediction))\n",
    "print(classification_report(y_test,y_prediction))"
   ]
  },
  {
   "cell_type": "code",
   "execution_count": null,
   "metadata": {},
   "outputs": [],
   "source": []
  }
 ],
 "metadata": {
  "kernelspec": {
   "display_name": "Python 3",
   "language": "python",
   "name": "python3"
  },
  "language_info": {
   "codemirror_mode": {
    "name": "ipython",
    "version": 3
   },
   "file_extension": ".py",
   "mimetype": "text/x-python",
   "name": "python",
   "nbconvert_exporter": "python",
   "pygments_lexer": "ipython3",
   "version": "3.6.5"
  }
 },
 "nbformat": 4,
 "nbformat_minor": 2
}
